{
 "cells": [
  {
   "cell_type": "markdown",
   "id": "4a114772",
   "metadata": {},
   "source": [
    "# Apple cultivars\n",
    "\n",
    "* **Data:** `apples.csv`\n",
    "* **Description:** Types of apples\n",
    "* **Source:** https://en.wikipedia.org/wiki/List_of_apple_cultivars\n",
    "* **Columns of interest:**\n",
    "    * `Common name` - the non-scientific name of the apple cultivar\n",
    "    * `Origin` - where it came from\n",
    "    * `First developed` - year it was developed\n",
    "    * `Comment` - Description\n",
    "    * `Use` - whether best for eating, baking, etc\n",
    "\n",
    "Note that you'll need to brush up on `.str.contains` for this notebook."
   ]
  },
  {
   "cell_type": "markdown",
   "id": "32bd1f7a",
   "metadata": {},
   "source": [
    "## Read in your data"
   ]
  },
  {
   "cell_type": "code",
   "execution_count": 153,
   "id": "f6d8cc9f",
   "metadata": {},
   "outputs": [],
   "source": [
    "import pandas as pd\n",
    "import numpy as np\n",
    "\n",
    "df = pd.read_csv(\"apples.csv\")"
   ]
  },
  {
   "cell_type": "code",
   "execution_count": 154,
   "id": "b4b7ff0a",
   "metadata": {},
   "outputs": [],
   "source": [
    "df.columns = df.columns.str.lower().str.replace(\" \", \"_\")"
   ]
  },
  {
   "cell_type": "markdown",
   "id": "e657b5ec",
   "metadata": {},
   "source": [
    "## Clean up the \"First developed\" column\n",
    "\n",
    "Sometimes it's a year and sometimes it is an \"introduced\" year, like `Introduced 1826`. We just want all of them to be years, so feel free to remove the \"Introduced\" part."
   ]
  },
  {
   "cell_type": "code",
   "execution_count": 155,
   "id": "00f90991",
   "metadata": {},
   "outputs": [],
   "source": [
    "#Replacing the \"Introduced \" in the first developed column and converting it to int\n",
    "df.first_developed = df.first_developed.str.replace(\"Introduced \", \"\").astype(float)"
   ]
  },
  {
   "cell_type": "markdown",
   "id": "9dbfffa4",
   "metadata": {},
   "source": [
    "## What percentage of apples are just for eating?"
   ]
  },
  {
   "cell_type": "code",
   "execution_count": 156,
   "id": "66f6948b",
   "metadata": {},
   "outputs": [
    {
     "data": {
      "text/plain": [
       "Eating                           57.55\n",
       "Cooking                          13.09\n",
       "Cooking, Eating                   9.45\n",
       "Eating, Cooking                   5.91\n",
       "Cider                             1.09\n",
       "                                 ...  \n",
       "Cooking (Apple Juice), Eating     0.09\n",
       "Cider, Cooking Eating             0.09\n",
       "Eating, Cooking, Drying           0.09\n",
       "Cooking, (Eating)                 0.09\n",
       "Eating, cider, juice              0.09\n",
       "Name: use, Length: 72, dtype: float64"
      ]
     },
     "execution_count": 156,
     "metadata": {},
     "output_type": "execute_result"
    }
   ],
   "source": [
    "round(df.use.value_counts(normalize=True) * 100, 2)"
   ]
  },
  {
   "cell_type": "markdown",
   "id": "b048626a",
   "metadata": {},
   "source": [
    "## Apples are from Kazakhstan, but they've spread since ancient times: calculate the top seven countries for apple cultivars in this dataset"
   ]
  },
  {
   "cell_type": "code",
   "execution_count": 157,
   "id": "e22fa884",
   "metadata": {},
   "outputs": [
    {
     "data": {
      "text/plain": [
       "US         321\n",
       "England    278\n",
       "Germany     75\n",
       "France      38\n",
       "Sweden      35\n",
       "Canada      32\n",
       "Russia      17\n",
       "Name: origin, dtype: int64"
      ]
     },
     "execution_count": 157,
     "metadata": {},
     "output_type": "execute_result"
    }
   ],
   "source": [
    "df.origin.value_counts().head(7)"
   ]
  },
  {
   "cell_type": "markdown",
   "id": "f8c572be",
   "metadata": {},
   "source": [
    "## Plot them with the longest bar at the top"
   ]
  },
  {
   "cell_type": "code",
   "execution_count": 158,
   "id": "d66f3a42",
   "metadata": {},
   "outputs": [
    {
     "data": {
      "text/plain": [
       "<AxesSubplot:>"
      ]
     },
     "execution_count": 158,
     "metadata": {},
     "output_type": "execute_result"
    },
    {
     "data": {
      "image/png": "[encoded data removed]",
      "text/plain": [
       "<Figure size 432x288 with 1 Axes>"
      ]
     },
     "metadata": {
      "needs_background": "light"
     },
     "output_type": "display_data"
    }
   ],
   "source": [
    "df.origin.value_counts().head(7).sort_values().plot(kind='barh')"
   ]
  },
  {
   "cell_type": "markdown",
   "id": "c2a1a9f0",
   "metadata": {},
   "source": [
    "## For apples described as \"small\" in their comment section, how often are they just for eating?"
   ]
  },
  {
   "cell_type": "code",
   "execution_count": 159,
   "id": "aea7114e",
   "metadata": {},
   "outputs": [
    {
     "data": {
      "text/plain": [
       "Eating                      22\n",
       "Cooking                      3\n",
       "Cider                        2\n",
       "Eating, Cooking              2\n",
       "Cooking, Eating              2\n",
       "Eating, Cooking, Dessert     1\n",
       "Eating, Cooking, Baking      1\n",
       "Cooking, Eating.             1\n",
       "Name: use, dtype: int64"
      ]
     },
     "execution_count": 159,
     "metadata": {},
     "output_type": "execute_result"
    }
   ],
   "source": [
    "small = df[df.comment.str.contains(\"small\", na=False)]\n",
    "\n",
    "small.use.value_counts()"
   ]
  },
  {
   "cell_type": "markdown",
   "id": "8b21dc99",
   "metadata": {},
   "source": [
    "## Save a CSV of just apples from Sweden, calling it `sweden.csv`"
   ]
  },
  {
   "cell_type": "code",
   "execution_count": 160,
   "id": "5afce25e",
   "metadata": {},
   "outputs": [],
   "source": [
    "sweden = df[df.origin == \"Sweden\"]\n",
    "\n",
    "sweden.to_csv(\"sweden.csv\", index=False)"
   ]
  },
  {
   "cell_type": "code",
   "execution_count": 161,
   "id": "5ccb44de",
   "metadata": {},
   "outputs": [
    {
     "data": {
      "text/html": [
       "<div>\n",
       "<style scoped>\n",
       "    .dataframe tbody tr th:only-of-type {\n",
       "        vertical-align: middle;\n",
       "    }\n",
       "\n",
       "    .dataframe tbody tr th {\n",
       "        vertical-align: top;\n",
       "    }\n",
       "\n",
       "    .dataframe thead th {\n",
       "        text-align: right;\n",
       "    }\n",
       "</style>\n",
       "<table border=\"1\" class=\"dataframe\">\n",
       "  <thead>\n",
       "    <tr style=\"text-align: right;\">\n",
       "      <th></th>\n",
       "      <th>common_name</th>\n",
       "      <th>origin</th>\n",
       "      <th>first_developed</th>\n",
       "      <th>comment</th>\n",
       "      <th>use</th>\n",
       "    </tr>\n",
       "  </thead>\n",
       "  <tbody>\n",
       "    <tr>\n",
       "      <th>0</th>\n",
       "      <td>Åkerö</td>\n",
       "      <td>Sweden</td>\n",
       "      <td>1759.0</td>\n",
       "      <td>Apple is egg-shaped, medium to large in size, ...</td>\n",
       "      <td>Eating</td>\n",
       "    </tr>\n",
       "    <tr>\n",
       "      <th>1</th>\n",
       "      <td>Alice</td>\n",
       "      <td>Sweden</td>\n",
       "      <td>1964.0</td>\n",
       "      <td>Medium size. Yellow with red stripes. Flesh ju...</td>\n",
       "      <td>Eating</td>\n",
       "    </tr>\n",
       "    <tr>\n",
       "      <th>2</th>\n",
       "      <td>Aroma</td>\n",
       "      <td>Sweden</td>\n",
       "      <td>1947.0</td>\n",
       "      <td>A yellow apple with red flush. W 63, H 58. P I...</td>\n",
       "      <td>Eating</td>\n",
       "    </tr>\n",
       "    <tr>\n",
       "      <th>3</th>\n",
       "      <td>Birgit Bonnier</td>\n",
       "      <td>Sweden</td>\n",
       "      <td>1992.0</td>\n",
       "      <td>A cross between Cortland (apple) and Lord Lamb...</td>\n",
       "      <td>NaN</td>\n",
       "    </tr>\n",
       "    <tr>\n",
       "      <th>4</th>\n",
       "      <td>Fagerö</td>\n",
       "      <td>Sweden</td>\n",
       "      <td>1860.0</td>\n",
       "      <td>W 75-80, H 68. A red mutant of Grågylling. Use...</td>\n",
       "      <td>Eating</td>\n",
       "    </tr>\n",
       "    <tr>\n",
       "      <th>5</th>\n",
       "      <td>Flickäpple</td>\n",
       "      <td>Sweden</td>\n",
       "      <td>1850.0</td>\n",
       "      <td>A large cooking apple. Yellow with red stripes...</td>\n",
       "      <td>Cooking</td>\n",
       "    </tr>\n",
       "    <tr>\n",
       "      <th>6</th>\n",
       "      <td>Frösåker</td>\n",
       "      <td>Sweden</td>\n",
       "      <td>1900.0</td>\n",
       "      <td>A yellow apple. W 58-63. H 45-50. Stalk 12mm. ...</td>\n",
       "      <td>Eating</td>\n",
       "    </tr>\n",
       "    <tr>\n",
       "      <th>7</th>\n",
       "      <td>Gunilla Bohuslän</td>\n",
       "      <td>Sweden</td>\n",
       "      <td>1900.0</td>\n",
       "      <td>W 98, H 98. Stalk 21 mm. Use October - March.</td>\n",
       "      <td>Eating, Cooking</td>\n",
       "    </tr>\n",
       "    <tr>\n",
       "      <th>8</th>\n",
       "      <td>Hanaskogsäpple</td>\n",
       "      <td>Sweden</td>\n",
       "      <td>1873.0</td>\n",
       "      <td>A yellow apple. W 61, H 54. Pick September. Us...</td>\n",
       "      <td>Eating</td>\n",
       "    </tr>\n",
       "    <tr>\n",
       "      <th>9</th>\n",
       "      <td>Himmelstalund</td>\n",
       "      <td>Sweden</td>\n",
       "      <td>1870.0</td>\n",
       "      <td>W 75, H 58. Flesh juicy, aromatic. Use October...</td>\n",
       "      <td>Eating</td>\n",
       "    </tr>\n",
       "    <tr>\n",
       "      <th>10</th>\n",
       "      <td>Julita Gylling</td>\n",
       "      <td>Sweden</td>\n",
       "      <td>NaN</td>\n",
       "      <td>Yellow with red flush. W 69, H 61. Stalk 10 – ...</td>\n",
       "      <td>Cooking, Eating</td>\n",
       "    </tr>\n",
       "    <tr>\n",
       "      <th>11</th>\n",
       "      <td>Kalmar Glasäpple</td>\n",
       "      <td>Sweden</td>\n",
       "      <td>1750.0</td>\n",
       "      <td>The body is light yellow, and the taste is a m...</td>\n",
       "      <td>Cooking, Eating</td>\n",
       "    </tr>\n",
       "    <tr>\n",
       "      <th>12</th>\n",
       "      <td>Katy (apple)(syn. Katja)</td>\n",
       "      <td>Sweden</td>\n",
       "      <td>1947.0</td>\n",
       "      <td>Early eating apple with red skin and pale crea...</td>\n",
       "      <td>Eating</td>\n",
       "    </tr>\n",
       "    <tr>\n",
       "      <th>13</th>\n",
       "      <td>Kavlås</td>\n",
       "      <td>Sweden</td>\n",
       "      <td>1820.0</td>\n",
       "      <td>W 80-87, H 70-79. Stalk 20– 30 mm. Flesh juicy...</td>\n",
       "      <td>Eating</td>\n",
       "    </tr>\n",
       "    <tr>\n",
       "      <th>14</th>\n",
       "      <td>Kim</td>\n",
       "      <td>Sweden</td>\n",
       "      <td>1955.0</td>\n",
       "      <td>Yellow apple with red overcolour. W 71, H 66. ...</td>\n",
       "      <td>Eating, Cooking</td>\n",
       "    </tr>\n",
       "    <tr>\n",
       "      <th>15</th>\n",
       "      <td>Klockhammarsäpple</td>\n",
       "      <td>Sweden</td>\n",
       "      <td>1860.0</td>\n",
       "      <td>A small yellow apple with red stripes. H 54, W...</td>\n",
       "      <td>Eating, Cooking</td>\n",
       "    </tr>\n",
       "    <tr>\n",
       "      <th>16</th>\n",
       "      <td>Malmbergs Gylling</td>\n",
       "      <td>Sweden</td>\n",
       "      <td>1900.0</td>\n",
       "      <td>W 75, H 58. Stalk short to medium. Flesh juicy...</td>\n",
       "      <td>Cooking</td>\n",
       "    </tr>\n",
       "    <tr>\n",
       "      <th>17</th>\n",
       "      <td>Mio</td>\n",
       "      <td>Sweden</td>\n",
       "      <td>1932.0</td>\n",
       "      <td>Yellow with red flush. W 62, H 53. P Worcester...</td>\n",
       "      <td>Eating</td>\n",
       "    </tr>\n",
       "    <tr>\n",
       "      <th>18</th>\n",
       "      <td>Råby Rubin</td>\n",
       "      <td>Sweden</td>\n",
       "      <td>1960.0</td>\n",
       "      <td>A small greenish-yellow apple with red flush. ...</td>\n",
       "      <td>Eating</td>\n",
       "    </tr>\n",
       "    <tr>\n",
       "      <th>19</th>\n",
       "      <td>Ringstad</td>\n",
       "      <td>Sweden</td>\n",
       "      <td>1800.0</td>\n",
       "      <td>A yellow apple with red overcolour. W 73, H 60...</td>\n",
       "      <td>Eating</td>\n",
       "    </tr>\n",
       "    <tr>\n",
       "      <th>20</th>\n",
       "      <td>Risäter</td>\n",
       "      <td>Sweden</td>\n",
       "      <td>1800.0</td>\n",
       "      <td>A yellow apple. W 68, H 58. Flesh subacid. Pic...</td>\n",
       "      <td>Eating, Cooking, Cider</td>\n",
       "    </tr>\n",
       "    <tr>\n",
       "      <th>21</th>\n",
       "      <td>Rosenhäger Swedish</td>\n",
       "      <td>Sweden</td>\n",
       "      <td>1800.0</td>\n",
       "      <td>A yellow apple with red overcolour. H 50, W 68...</td>\n",
       "      <td>Eating</td>\n",
       "    </tr>\n",
       "    <tr>\n",
       "      <th>22</th>\n",
       "      <td>Särsö (syn. Mignon, Cloetta)</td>\n",
       "      <td>Sweden</td>\n",
       "      <td>1917.0</td>\n",
       "      <td>W 73, H 60. Stalk 25 mm. Flesh subacid, fair t...</td>\n",
       "      <td>Eating, Cooking, Jam</td>\n",
       "    </tr>\n",
       "    <tr>\n",
       "      <th>23</th>\n",
       "      <td>Sköldinge</td>\n",
       "      <td>Sweden</td>\n",
       "      <td>1800.0</td>\n",
       "      <td>W 65, H 61. Stalk 15 mm. Flesh juicy, sweet, s...</td>\n",
       "      <td>Eating</td>\n",
       "    </tr>\n",
       "    <tr>\n",
       "      <th>24</th>\n",
       "      <td>Snövit</td>\n",
       "      <td>Sweden</td>\n",
       "      <td>1936.0</td>\n",
       "      <td>Yellow with red flush. W 64, H 56. P Stenbock ...</td>\n",
       "      <td>Eating</td>\n",
       "    </tr>\n",
       "    <tr>\n",
       "      <th>25</th>\n",
       "      <td>Södermanlands kalvill</td>\n",
       "      <td>Sweden</td>\n",
       "      <td>1850.0</td>\n",
       "      <td>W 70-100, H 61-86. Stalk 17–18 mm. Flesh juicy...</td>\n",
       "      <td>Eating</td>\n",
       "    </tr>\n",
       "    <tr>\n",
       "      <th>26</th>\n",
       "      <td>Södermanlands äpple</td>\n",
       "      <td>Sweden</td>\n",
       "      <td>1800.0</td>\n",
       "      <td>W 65-83, H 65-79. Stalk 19–28 mm. Flesh juicy,...</td>\n",
       "      <td>Eating</td>\n",
       "    </tr>\n",
       "    <tr>\n",
       "      <th>27</th>\n",
       "      <td>Sparreholm</td>\n",
       "      <td>Sweden</td>\n",
       "      <td>1868.0</td>\n",
       "      <td>W 77 H 77. Stalk 10mm. Pick September. Use Sep...</td>\n",
       "      <td>Eating</td>\n",
       "    </tr>\n",
       "    <tr>\n",
       "      <th>28</th>\n",
       "      <td>Stäringe Karin</td>\n",
       "      <td>Sweden</td>\n",
       "      <td>1902.0</td>\n",
       "      <td>W 77, H 67. Stalk 15 mm. A green apple with re...</td>\n",
       "      <td>Eating</td>\n",
       "    </tr>\n",
       "    <tr>\n",
       "      <th>29</th>\n",
       "      <td>Stenkyrke</td>\n",
       "      <td>Sweden</td>\n",
       "      <td>1750.0</td>\n",
       "      <td>A yellow conical apple. W 75, H60. Flesh, juic...</td>\n",
       "      <td>Eating</td>\n",
       "    </tr>\n",
       "    <tr>\n",
       "      <th>30</th>\n",
       "      <td>Trogsta</td>\n",
       "      <td>Sweden</td>\n",
       "      <td>1900.0</td>\n",
       "      <td>W 59-71, H 50-59. Stalk 9 mm. Flesh juicy, goo...</td>\n",
       "      <td>Eating</td>\n",
       "    </tr>\n",
       "    <tr>\n",
       "      <th>31</th>\n",
       "      <td>Wickstrands favorit</td>\n",
       "      <td>Sweden</td>\n",
       "      <td>1900.0</td>\n",
       "      <td>A green apple. W 65 H 67. Stalk 16 mm. Flesh s...</td>\n",
       "      <td>Eating</td>\n",
       "    </tr>\n",
       "    <tr>\n",
       "      <th>32</th>\n",
       "      <td>Ökna Lökäpple</td>\n",
       "      <td>Sweden</td>\n",
       "      <td>1830.0</td>\n",
       "      <td>Greenish yellow with some red stripes. H 50, W...</td>\n",
       "      <td>Eating</td>\n",
       "    </tr>\n",
       "    <tr>\n",
       "      <th>33</th>\n",
       "      <td>Ökna vita Vintergylling</td>\n",
       "      <td>Sweden</td>\n",
       "      <td>1900.0</td>\n",
       "      <td>A small yellow conical apple. H 60, W 60. Use ...</td>\n",
       "      <td>Cooking, Eating.</td>\n",
       "    </tr>\n",
       "    <tr>\n",
       "      <th>34</th>\n",
       "      <td>Ölands Kungsäpple</td>\n",
       "      <td>Sweden</td>\n",
       "      <td>1850.0</td>\n",
       "      <td>A small red conical apple for use in November–...</td>\n",
       "      <td>Eating</td>\n",
       "    </tr>\n",
       "  </tbody>\n",
       "</table>\n",
       "</div>"
      ],
      "text/plain": [
       "                     common_name  origin  first_developed  \\\n",
       "0                          Åkerö  Sweden           1759.0   \n",
       "1                          Alice  Sweden           1964.0   \n",
       "2                          Aroma  Sweden           1947.0   \n",
       "3                 Birgit Bonnier  Sweden           1992.0   \n",
       "4                         Fagerö  Sweden           1860.0   \n",
       "5                     Flickäpple  Sweden           1850.0   \n",
       "6                       Frösåker  Sweden           1900.0   \n",
       "7               Gunilla Bohuslän  Sweden           1900.0   \n",
       "8                 Hanaskogsäpple  Sweden           1873.0   \n",
       "9                  Himmelstalund  Sweden           1870.0   \n",
       "10                Julita Gylling  Sweden              NaN   \n",
       "11              Kalmar Glasäpple  Sweden           1750.0   \n",
       "12      Katy (apple)(syn. Katja)  Sweden           1947.0   \n",
       "13                        Kavlås  Sweden           1820.0   \n",
       "14                           Kim  Sweden           1955.0   \n",
       "15             Klockhammarsäpple  Sweden           1860.0   \n",
       "16             Malmbergs Gylling  Sweden           1900.0   \n",
       "17                           Mio  Sweden           1932.0   \n",
       "18                    Råby Rubin  Sweden           1960.0   \n",
       "19                      Ringstad  Sweden           1800.0   \n",
       "20                       Risäter  Sweden           1800.0   \n",
       "21            Rosenhäger Swedish  Sweden           1800.0   \n",
       "22  Särsö (syn. Mignon, Cloetta)  Sweden           1917.0   \n",
       "23                     Sköldinge  Sweden           1800.0   \n",
       "24                        Snövit  Sweden           1936.0   \n",
       "25         Södermanlands kalvill  Sweden           1850.0   \n",
       "26           Södermanlands äpple  Sweden           1800.0   \n",
       "27                    Sparreholm  Sweden           1868.0   \n",
       "28                Stäringe Karin  Sweden           1902.0   \n",
       "29                     Stenkyrke  Sweden           1750.0   \n",
       "30                       Trogsta  Sweden           1900.0   \n",
       "31           Wickstrands favorit  Sweden           1900.0   \n",
       "32                 Ökna Lökäpple  Sweden           1830.0   \n",
       "33       Ökna vita Vintergylling  Sweden           1900.0   \n",
       "34             Ölands Kungsäpple  Sweden           1850.0   \n",
       "\n",
       "                                              comment                     use  \n",
       "0   Apple is egg-shaped, medium to large in size, ...                  Eating  \n",
       "1   Medium size. Yellow with red stripes. Flesh ju...                  Eating  \n",
       "2   A yellow apple with red flush. W 63, H 58. P I...                  Eating  \n",
       "3   A cross between Cortland (apple) and Lord Lamb...                     NaN  \n",
       "4   W 75-80, H 68. A red mutant of Grågylling. Use...                  Eating  \n",
       "5   A large cooking apple. Yellow with red stripes...                 Cooking  \n",
       "6   A yellow apple. W 58-63. H 45-50. Stalk 12mm. ...                  Eating  \n",
       "7       W 98, H 98. Stalk 21 mm. Use October - March.         Eating, Cooking  \n",
       "8   A yellow apple. W 61, H 54. Pick September. Us...                  Eating  \n",
       "9   W 75, H 58. Flesh juicy, aromatic. Use October...                  Eating  \n",
       "10  Yellow with red flush. W 69, H 61. Stalk 10 – ...         Cooking, Eating  \n",
       "11  The body is light yellow, and the taste is a m...         Cooking, Eating  \n",
       "12  Early eating apple with red skin and pale crea...                  Eating  \n",
       "13  W 80-87, H 70-79. Stalk 20– 30 mm. Flesh juicy...                  Eating  \n",
       "14  Yellow apple with red overcolour. W 71, H 66. ...         Eating, Cooking  \n",
       "15  A small yellow apple with red stripes. H 54, W...         Eating, Cooking  \n",
       "16  W 75, H 58. Stalk short to medium. Flesh juicy...                 Cooking  \n",
       "17  Yellow with red flush. W 62, H 53. P Worcester...                  Eating  \n",
       "18  A small greenish-yellow apple with red flush. ...                  Eating  \n",
       "19  A yellow apple with red overcolour. W 73, H 60...                  Eating  \n",
       "20  A yellow apple. W 68, H 58. Flesh subacid. Pic...  Eating, Cooking, Cider  \n",
       "21  A yellow apple with red overcolour. H 50, W 68...                  Eating  \n",
       "22  W 73, H 60. Stalk 25 mm. Flesh subacid, fair t...    Eating, Cooking, Jam  \n",
       "23  W 65, H 61. Stalk 15 mm. Flesh juicy, sweet, s...                  Eating  \n",
       "24  Yellow with red flush. W 64, H 56. P Stenbock ...                  Eating  \n",
       "25  W 70-100, H 61-86. Stalk 17–18 mm. Flesh juicy...                  Eating  \n",
       "26  W 65-83, H 65-79. Stalk 19–28 mm. Flesh juicy,...                  Eating  \n",
       "27  W 77 H 77. Stalk 10mm. Pick September. Use Sep...                  Eating  \n",
       "28  W 77, H 67. Stalk 15 mm. A green apple with re...                  Eating  \n",
       "29  A yellow conical apple. W 75, H60. Flesh, juic...                  Eating  \n",
       "30  W 59-71, H 50-59. Stalk 9 mm. Flesh juicy, goo...                  Eating  \n",
       "31  A green apple. W 65 H 67. Stalk 16 mm. Flesh s...                  Eating  \n",
       "32  Greenish yellow with some red stripes. H 50, W...                  Eating  \n",
       "33  A small yellow conical apple. H 60, W 60. Use ...        Cooking, Eating.  \n",
       "34  A small red conical apple for use in November–...                  Eating  "
      ]
     },
     "execution_count": 161,
     "metadata": {},
     "output_type": "execute_result"
    }
   ],
   "source": [
    "#Reading the csv\n",
    "pd.read_csv(\"sweden.csv\")"
   ]
  },
  {
   "cell_type": "markdown",
   "id": "56dde209",
   "metadata": {},
   "source": [
    "## What was the first apple cultivar from Japan?"
   ]
  },
  {
   "cell_type": "code",
   "execution_count": 172,
   "id": "a51bd2af",
   "metadata": {},
   "outputs": [
    {
     "data": {
      "text/html": [
       "<div>\n",
       "<style scoped>\n",
       "    .dataframe tbody tr th:only-of-type {\n",
       "        vertical-align: middle;\n",
       "    }\n",
       "\n",
       "    .dataframe tbody tr th {\n",
       "        vertical-align: top;\n",
       "    }\n",
       "\n",
       "    .dataframe thead th {\n",
       "        text-align: right;\n",
       "    }\n",
       "</style>\n",
       "<table border=\"1\" class=\"dataframe\">\n",
       "  <thead>\n",
       "    <tr style=\"text-align: right;\">\n",
       "      <th></th>\n",
       "      <th>common_name</th>\n",
       "      <th>origin</th>\n",
       "      <th>first_developed</th>\n",
       "      <th>comment</th>\n",
       "      <th>use</th>\n",
       "    </tr>\n",
       "  </thead>\n",
       "  <tbody>\n",
       "    <tr>\n",
       "      <th>1122</th>\n",
       "      <td>Washu 1984</td>\n",
       "      <td>Japan</td>\n",
       "      <td>1920.0</td>\n",
       "      <td>Conical with light green skin and dark freckle...</td>\n",
       "      <td>Eating</td>\n",
       "    </tr>\n",
       "    <tr>\n",
       "      <th>244</th>\n",
       "      <td>Crispin</td>\n",
       "      <td>Japan</td>\n",
       "      <td>1930.0</td>\n",
       "      <td>See Mutsu</td>\n",
       "      <td>Eating</td>\n",
       "    </tr>\n",
       "    <tr>\n",
       "      <th>400</th>\n",
       "      <td>Fuji</td>\n",
       "      <td>Japan</td>\n",
       "      <td>1930.0</td>\n",
       "      <td>P Red Delicious × Ralls Genet. Dark red, conic...</td>\n",
       "      <td>Eating</td>\n",
       "    </tr>\n",
       "    <tr>\n",
       "      <th>749</th>\n",
       "      <td>Mutsu</td>\n",
       "      <td>Japan</td>\n",
       "      <td>1930.0</td>\n",
       "      <td>Known as \"Crispin\" in the United Kingdom. W 73...</td>\n",
       "      <td>Eating</td>\n",
       "    </tr>\n",
       "    <tr>\n",
       "      <th>1087</th>\n",
       "      <td>Tsugaru</td>\n",
       "      <td>Japan</td>\n",
       "      <td>1930.0</td>\n",
       "      <td>Golden Delicious × Jonathan</td>\n",
       "      <td>Eating</td>\n",
       "    </tr>\n",
       "    <tr>\n",
       "      <th>786</th>\n",
       "      <td>Orin</td>\n",
       "      <td>Japan</td>\n",
       "      <td>1952.0</td>\n",
       "      <td>Sweet and distinctive fragrance. Notes of pine...</td>\n",
       "      <td>Eating</td>\n",
       "    </tr>\n",
       "    <tr>\n",
       "      <th>11</th>\n",
       "      <td>Akane</td>\n",
       "      <td>Japan</td>\n",
       "      <td>1970.0</td>\n",
       "      <td>Jonathan × Worcester Pearmain. Tangy taste.</td>\n",
       "      <td>Eating</td>\n",
       "    </tr>\n",
       "    <tr>\n",
       "      <th>484</th>\n",
       "      <td>Hatsuaki</td>\n",
       "      <td>Japan</td>\n",
       "      <td>1976.0</td>\n",
       "      <td>P Jonathan x Golden Delicious. Flesh juicy, sw...</td>\n",
       "      <td>Eating</td>\n",
       "    </tr>\n",
       "    <tr>\n",
       "      <th>969</th>\n",
       "      <td>Shinano Sweet</td>\n",
       "      <td>Japan</td>\n",
       "      <td>1978.0</td>\n",
       "      <td>mid-season crops. Tsugaru x Fuji</td>\n",
       "      <td>Eating</td>\n",
       "    </tr>\n",
       "  </tbody>\n",
       "</table>\n",
       "</div>"
      ],
      "text/plain": [
       "        common_name origin  first_developed  \\\n",
       "1122     Washu 1984  Japan           1920.0   \n",
       "244         Crispin  Japan           1930.0   \n",
       "400            Fuji  Japan           1930.0   \n",
       "749           Mutsu  Japan           1930.0   \n",
       "1087        Tsugaru  Japan           1930.0   \n",
       "786            Orin  Japan           1952.0   \n",
       "11            Akane  Japan           1970.0   \n",
       "484        Hatsuaki  Japan           1976.0   \n",
       "969   Shinano Sweet  Japan           1978.0   \n",
       "\n",
       "                                                comment     use  \n",
       "1122  Conical with light green skin and dark freckle...  Eating  \n",
       "244                                           See Mutsu  Eating  \n",
       "400   P Red Delicious × Ralls Genet. Dark red, conic...  Eating  \n",
       "749   Known as \"Crispin\" in the United Kingdom. W 73...  Eating  \n",
       "1087                        Golden Delicious × Jonathan  Eating  \n",
       "786   Sweet and distinctive fragrance. Notes of pine...  Eating  \n",
       "11          Jonathan × Worcester Pearmain. Tangy taste.  Eating  \n",
       "484   P Jonathan x Golden Delicious. Flesh juicy, sw...  Eating  \n",
       "969                    mid-season crops. Tsugaru x Fuji  Eating  "
      ]
     },
     "execution_count": 172,
     "metadata": {},
     "output_type": "execute_result"
    }
   ],
   "source": [
    "#Firsr identify where origin is Japan.\n",
    "#Then sort by first developed\n",
    "\n",
    "df[df.origin == \"Japan\"].sort_values(by='first_developed')\n"
   ]
  },
  {
   "cell_type": "markdown",
   "id": "73a07843",
   "metadata": {},
   "source": [
    "## How old are these apple cultivars?\n",
    "\n",
    "You could use `.describe()`, but I want a graph. **What kind of chart do you use?** I want to see a graph that shows me a summary when these cultivars were discovered/introduced, not a graph of each individual one's year of introduction."
   ]
  },
  {
   "cell_type": "code",
   "execution_count": 179,
   "id": "f2a14499",
   "metadata": {},
   "outputs": [
    {
     "data": {
      "text/plain": [
       "<AxesSubplot:>"
      ]
     },
     "execution_count": 179,
     "metadata": {},
     "output_type": "execute_result"
    },
    {
     "data": {
      "image/png": "[encoded data removed]",
      "text/plain": [
       "<Figure size 432x288 with 1 Axes>"
      ]
     },
     "metadata": {
      "needs_background": "light"
     },
     "output_type": "display_data"
    }
   ],
   "source": [
    "japan.first_developed.hist()"
   ]
  },
  {
   "cell_type": "markdown",
   "id": "f7ce0692",
   "metadata": {},
   "source": [
    "## How old are most apple cultivars that are used for creating cider?\n",
    "\n",
    "Cider used to be a big deal, so I would assume they're older. Include **anything that includes \"Cider\" anywhere in the `Use` description**. Make a graph, same as the last question."
   ]
  },
  {
   "cell_type": "code",
   "execution_count": 180,
   "id": "532e06ef",
   "metadata": {},
   "outputs": [],
   "source": [
    "cider = df[df.use.str.contains(\"cider\", case=False, na=False)]\n"
   ]
  },
  {
   "cell_type": "code",
   "execution_count": 181,
   "id": "ee95bd70",
   "metadata": {},
   "outputs": [
    {
     "data": {
      "text/plain": [
       "<AxesSubplot:>"
      ]
     },
     "execution_count": 181,
     "metadata": {},
     "output_type": "execute_result"
    },
    {
     "data": {
      "image/png": "[encoded data removed]",
      "text/plain": [
       "<Figure size 432x288 with 1 Axes>"
      ]
     },
     "metadata": {
      "needs_background": "light"
     },
     "output_type": "display_data"
    }
   ],
   "source": [
    "cider.first_developed.hist()"
   ]
  },
  {
   "cell_type": "code",
   "execution_count": null,
   "id": "48dc71a6",
   "metadata": {},
   "outputs": [],
   "source": []
  },
  {
   "cell_type": "code",
   "execution_count": null,
   "id": "7391b9d5",
   "metadata": {},
   "outputs": [],
   "source": []
  }
 ],
 "metadata": {
  "kernelspec": {
   "display_name": "Python 3 (ipykernel)",
   "language": "python",
   "name": "python3"
  },
  "language_info": {
   "codemirror_mode": {
    "name": "ipython",
    "version": 3
   },
   "file_extension": ".py",
   "mimetype": "text/x-python",
   "name": "python",
   "nbconvert_exporter": "python",
   "pygments_lexer": "ipython3",
   "version": "3.9.7"
  }
 },
 "nbformat": 4,
 "nbformat_minor": 5
}
